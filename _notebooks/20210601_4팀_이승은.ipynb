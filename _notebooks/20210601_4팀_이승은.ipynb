{
  "nbformat": 4,
  "nbformat_minor": 0,
  "metadata": {
    "colab": {
      "name": "20210601_4팀_이승은.ipynb",
      "provenance": [],
      "collapsed_sections": [],
      "authorship_tag": "ABX9TyOTHxN+rmTMcM8D0Xg2iWvg",
      "include_colab_link": true
    },
    "kernelspec": {
      "name": "python3",
      "display_name": "Python 3"
    },
    "language_info": {
      "name": "python"
    }
  },
  "cells": [
    {
      "cell_type": "markdown",
      "metadata": {
        "id": "view-in-github",
        "colab_type": "text"
      },
      "source": [
        "<a href=\"https://colab.research.google.com/github/seungeun-lee99/dtpythonblog/blob/master/_notebooks/20210601_4%ED%8C%80_%EC%9D%B4%EC%8A%B9%EC%9D%80.ipynb\" target=\"_parent\"><img src=\"https://colab.research.google.com/assets/colab-badge.svg\" alt=\"Open In Colab\"/></a>"
      ]
    },
    {
      "cell_type": "markdown",
      "metadata": {
        "id": "cjGFhKHTzuH0"
      },
      "source": [
        "#반복문"
      ]
    },
    {
      "cell_type": "markdown",
      "metadata": {
        "id": "-m8Tk06KzuYi"
      },
      "source": [
        "#for 구조"
      ]
    },
    {
      "cell_type": "code",
      "metadata": {
        "colab": {
          "base_uri": "https://localhost:8080/"
        },
        "id": "DMLyLy2_z22J",
        "outputId": "1a954d99-e391-440f-93a2-043ba5a03fc7"
      },
      "source": [
        "for i in [1,2,3,4,5]:\n",
        "    print(i)"
      ],
      "execution_count": null,
      "outputs": [
        {
          "output_type": "stream",
          "text": [
            "1\n",
            "2\n",
            "3\n",
            "4\n",
            "5\n"
          ],
          "name": "stdout"
        }
      ]
    },
    {
      "cell_type": "code",
      "metadata": {
        "colab": {
          "base_uri": "https://localhost:8080/"
        },
        "id": "ljpbHxfFz7Tn",
        "outputId": "f68daa60-04e7-4698-de21-bc3868363b1f"
      },
      "source": [
        "for i in 'python':\n",
        "    print(i)"
      ],
      "execution_count": null,
      "outputs": [
        {
          "output_type": "stream",
          "text": [
            "p\n",
            "y\n",
            "t\n",
            "h\n",
            "o\n",
            "n\n"
          ],
          "name": "stdout"
        }
      ]
    },
    {
      "cell_type": "code",
      "metadata": {
        "colab": {
          "base_uri": "https://localhost:8080/"
        },
        "id": "u1qthv58z_SI",
        "outputId": "cd9ff0a5-d3a5-4145-98f4-fff48177ed11"
      },
      "source": [
        "for i in range(5):\n",
        "    print(i)"
      ],
      "execution_count": null,
      "outputs": [
        {
          "output_type": "stream",
          "text": [
            "0\n",
            "1\n",
            "2\n",
            "3\n",
            "4\n"
          ],
          "name": "stdout"
        }
      ]
    },
    {
      "cell_type": "code",
      "metadata": {
        "colab": {
          "base_uri": "https://localhost:8080/"
        },
        "id": "kiYWPkvj0AUm",
        "outputId": "a530d470-f06a-4b54-b109-358a579164b2"
      },
      "source": [
        "#range함수\n",
        "for i in range(5):\n",
        "    print(i,end= \" \")        #end=\" \"와 같이 공백을 지정하면 줄이 바뀌지 않고 공백만큼의 간격으로 출력"
      ],
      "execution_count": null,
      "outputs": [
        {
          "output_type": "stream",
          "text": [
            "0 1 2 3 4 "
          ],
          "name": "stdout"
        }
      ]
    },
    {
      "cell_type": "code",
      "metadata": {
        "colab": {
          "base_uri": "https://localhost:8080/"
        },
        "id": "4HJ_a_iD0WPh",
        "outputId": "cf756787-3660-4998-fd6c-05b258fb43e7"
      },
      "source": [
        "#range함수\n",
        "for i in range(1,6):\n",
        "    print(i,end= \"\")       #end=\"\"는 가로로 출력"
      ],
      "execution_count": null,
      "outputs": [
        {
          "output_type": "stream",
          "text": [
            "12345"
          ],
          "name": "stdout"
        }
      ]
    },
    {
      "cell_type": "code",
      "metadata": {
        "colab": {
          "base_uri": "https://localhost:8080/"
        },
        "id": "FIg2GXz11awR",
        "outputId": "2544d9ca-d0fb-44c4-cd19-06dc225cfd1e"
      },
      "source": [
        "#range함수\n",
        "for i in range(1,10,2):\n",
        "    print(i,end= \",\")"
      ],
      "execution_count": null,
      "outputs": [
        {
          "output_type": "stream",
          "text": [
            "1,3,5,7,9,"
          ],
          "name": "stdout"
        }
      ]
    },
    {
      "cell_type": "code",
      "metadata": {
        "id": "6v5Oqh2z1hLO"
      },
      "source": [
        "#range함수-역순 : 오류 시작값은 끝값보다 앞에 위치하여야 한다\n",
        "for i in range(1,10,-1):\n",
        "    print(i,end= \" \")"
      ],
      "execution_count": null,
      "outputs": []
    },
    {
      "cell_type": "code",
      "metadata": {
        "colab": {
          "base_uri": "https://localhost:8080/"
        },
        "id": "Aj-ZMc6A16nS",
        "outputId": "2a69ae45-5488-4c12-c857-3c482d429515"
      },
      "source": [
        "#range함수-역순 : 오류\n",
        "for i in range(10,0,-1):\n",
        "    print(i,end= \"\\t\")              #\"\\t\"은 탭 간격으로 출력"
      ],
      "execution_count": null,
      "outputs": [
        {
          "output_type": "stream",
          "text": [
            "10\t9\t8\t7\t6\t5\t4\t3\t2\t1\t"
          ],
          "name": "stdout"
        }
      ]
    },
    {
      "cell_type": "code",
      "metadata": {
        "colab": {
          "base_uri": "https://localhost:8080/"
        },
        "id": "pp-MvC-I18VS",
        "outputId": "eccc03df-4132-43bb-9678-c5e4b9d382b1"
      },
      "source": [
        "for i in range(10):                  #range(횟수)만큼 반복된다.\n",
        "    print('Hello World!!')"
      ],
      "execution_count": null,
      "outputs": [
        {
          "output_type": "stream",
          "text": [
            "Hello World!!\n",
            "Hello World!!\n",
            "Hello World!!\n",
            "Hello World!!\n",
            "Hello World!!\n",
            "Hello World!!\n",
            "Hello World!!\n",
            "Hello World!!\n",
            "Hello World!!\n",
            "Hello World!!\n"
          ],
          "name": "stdout"
        }
      ]
    },
    {
      "cell_type": "markdown",
      "metadata": {
        "id": "2L_sr1km2rJQ"
      },
      "source": [
        "#while\n",
        "while + 조건식:</br>\n",
        "조건식의 결과가 True인 동안 반복된다.</br>\n",
        "반복을 마치기 위해서는 False 결과가 나와야 한다."
      ]
    },
    {
      "cell_type": "code",
      "metadata": {
        "colab": {
          "base_uri": "https://localhost:8080/"
        },
        "id": "4P-XbBna2AWS",
        "outputId": "5048f58f-6763-42ec-a2cd-0457ae6e1f7d"
      },
      "source": [
        "#while 구조반복\n",
        "i = 1                    #루프의 조건식에 사용되는 변수는 루프에 들어가기 전에 초기화되어야 한다.\n",
        "while i <= 5:\n",
        "    print(i, end= ' ')\n",
        "    i = i + 1            #루프의 조건식에 사용되는 변수 값은 루프 내에서 변경되어야 한다."
      ],
      "execution_count": null,
      "outputs": [
        {
          "output_type": "stream",
          "text": [
            "1 2 3 4 5 "
          ],
          "name": "stdout"
        }
      ]
    },
    {
      "cell_type": "code",
      "metadata": {
        "colab": {
          "base_uri": "https://localhost:8080/"
        },
        "id": "qRgLGzfq4fdv",
        "outputId": "91a851a2-3a46-4d2d-8332-bfc20fa808b0"
      },
      "source": [
        "for i in range(1,6):\n",
        "    print(i,end=' ')"
      ],
      "execution_count": null,
      "outputs": [
        {
          "output_type": "stream",
          "text": [
            "1 2 3 4 5 "
          ],
          "name": "stdout"
        }
      ]
    },
    {
      "cell_type": "code",
      "metadata": {
        "colab": {
          "base_uri": "https://localhost:8080/"
        },
        "id": "82NdmiWK4UrP",
        "outputId": "0dc9ea49-65e7-438a-d6af-1a90ed54c446"
      },
      "source": [
        "i = 1\n",
        "while i <= 5:\n",
        "    i = i + 1\n",
        "    print(i, end= ' ')"
      ],
      "execution_count": null,
      "outputs": [
        {
          "output_type": "stream",
          "text": [
            "2 3 4 5 6 "
          ],
          "name": "stdout"
        }
      ]
    },
    {
      "cell_type": "code",
      "metadata": {
        "colab": {
          "base_uri": "https://localhost:8080/"
        },
        "id": "YUVAPLmo4co-",
        "outputId": "69c1329a-f924-4e73-dec8-be0afbd90c58"
      },
      "source": [
        "i = 0\n",
        "while i <= 5:\n",
        "    i = i + 1\n",
        "    print(i, end= ' ')"
      ],
      "execution_count": null,
      "outputs": [
        {
          "output_type": "stream",
          "text": [
            "1 2 3 4 5 6 "
          ],
          "name": "stdout"
        }
      ]
    },
    {
      "cell_type": "markdown",
      "metadata": {
        "id": "O8okaI0L6F9R"
      },
      "source": [
        "무한루프일때 `ctrl+ m i`으로 실행 멈출 수 있음."
      ]
    },
    {
      "cell_type": "code",
      "metadata": {
        "id": "nl1o3xqX2xBX"
      },
      "source": [
        "#무한루프 \n",
        "i = 1 \n",
        "while i <= 5: # i값이 계속 1이므로 무한루프 -> 계속해서 '1'값 출력\n",
        "    print(i)\n",
        "print('end')"
      ],
      "execution_count": null,
      "outputs": []
    },
    {
      "cell_type": "code",
      "metadata": {
        "colab": {
          "base_uri": "https://localhost:8080/"
        },
        "id": "Vq1ho8kV6EgL",
        "outputId": "ab1648f2-316d-49ad-a36a-28c9aaceb662"
      },
      "source": [
        "#예제 > 'q'를 입력할 때까지 반복하여 이름 입력받기\n",
        "#'q'를 입력할때까지 반복하여 이름을 입력받는 프로그램을 작성하시오.\n",
        "name = ' '\n",
        "while name != 'q':\n",
        "    name = input('이름을 입력하세요:')\n",
        "    print(name)"
      ],
      "execution_count": null,
      "outputs": [
        {
          "output_type": "stream",
          "text": [
            "이름을 입력하세요:미미\n",
            "미미\n",
            "이름을 입력하세요:지호\n",
            "지호\n",
            "이름을 입력하세요:q\n",
            "q\n"
          ],
          "name": "stdout"
        }
      ]
    },
    {
      "cell_type": "code",
      "metadata": {
        "colab": {
          "base_uri": "https://localhost:8080/"
        },
        "id": "lfeYMwtN_vPC",
        "outputId": "ea29c81c-ee9d-4477-c745-bf1706ff7fbc"
      },
      "source": [
        "# q를 입력할 때까지 반복입력\n",
        "name = ' '\n",
        "while name != 'q':\n",
        "    name = input('이름을 입력하세요:')\n",
        "    if name != 'q':         #q일때는 이름 출력 안한다.\n",
        "        print(name)"
      ],
      "execution_count": null,
      "outputs": [
        {
          "output_type": "stream",
          "text": [
            "이름을 입력하세요:a\n",
            "a\n",
            "이름을 입력하세요:b\n",
            "b\n",
            "이름을 입력하세요:c\n",
            "c\n",
            "이름을 입력하세요:q\n"
          ],
          "name": "stdout"
        }
      ]
    },
    {
      "cell_type": "code",
      "metadata": {
        "colab": {
          "base_uri": "https://localhost:8080/"
        },
        "id": "_UxvL47U97vL",
        "outputId": "9b6d6cc3-5c6c-480d-a436-1df9beab1ebf"
      },
      "source": [
        "cnum1 = 0\n",
        "sum1 = 0\n",
        "while num1 != 99:\n",
        "    num1 = int(input('숫자를 입력하세요:'))\n",
        "    sum1 += num1\n",
        "    print(sum1)"
      ],
      "execution_count": null,
      "outputs": [
        {
          "output_type": "stream",
          "text": [
            "숫자를 입력하세요:10\n",
            "10\n",
            "숫자를 입력하세요:20\n",
            "30\n",
            "숫자를 입력하세요:50\n",
            "80\n",
            "숫자를 입력하세요:99\n",
            "179\n"
          ],
          "name": "stdout"
        }
      ]
    },
    {
      "cell_type": "code",
      "metadata": {
        "colab": {
          "base_uri": "https://localhost:8080/"
        },
        "id": "otXFWNyf-dp-",
        "outputId": "3a8205f2-a32f-4905-913e-91ce50a93c51"
      },
      "source": [
        "#예제 > 5개의 정수를 입력받아 합계 구하기\n",
        "#5개의 정수를 입력받아 합계를 구하여 출력하는 프로그램 작성\n",
        "\n",
        "#for문 이용\n",
        "sum = 0                                         #합계 초기화\n",
        "for i in range(5):                              #5번 반복\n",
        "    num = int(input('정수를 입력하세요:'))      #입력\n",
        "    sum += num                                  #입력한 정수를 합계에 누적하여 더하기\n",
        "print('합계출력:',sum)                          #합계 출력"
      ],
      "execution_count": null,
      "outputs": [
        {
          "output_type": "stream",
          "text": [
            "정수를 입력하세요:3\n",
            "정수를 입력하세요:7\n",
            "정수를 입력하세요:20\n",
            "정수를 입력하세요:345\n",
            "정수를 입력하세요:13\n",
            "합계출력: 388\n"
          ],
          "name": "stdout"
        }
      ]
    },
    {
      "cell_type": "code",
      "metadata": {
        "colab": {
          "base_uri": "https://localhost:8080/"
        },
        "id": "R25D_yLBAb_r",
        "outputId": "e25c9587-303f-4e9c-a0dd-3d32b4e0011b"
      },
      "source": [
        "#예제 > 5개의 정수를 입력받아 합계 구하기\n",
        "#5개의 정수를 입력받아 합계를 구하여 출력하는 프로그램 작성\n",
        "\n",
        "#while문 이용\n",
        "sum = 0\n",
        "i=1\n",
        "while i <= 5:\n",
        "    i += 1\n",
        "    num = int(input('정수를 입력하세요:'))\n",
        "    sum += num\n",
        "print('합계출력:',sum)"
      ],
      "execution_count": null,
      "outputs": [
        {
          "output_type": "stream",
          "text": [
            "정수를 입력하세요:35\n",
            "정수를 입력하세요:56\n",
            "정수를 입력하세요:53\n",
            "정수를 입력하세요:32\n",
            "정수를 입력하세요:34\n",
            "합계출력: 210\n"
          ],
          "name": "stdout"
        }
      ]
    },
    {
      "cell_type": "code",
      "metadata": {
        "colab": {
          "base_uri": "https://localhost:8080/"
        },
        "id": "Esv934IaBVMU",
        "outputId": "5bdc331f-e604-43f0-f891-ae00c0ba14e0"
      },
      "source": [
        "# 예제 > n개의 정수를 입력 받아 합계 출력\n",
        "#사용자로부터 n을 입력받고 n개의 정수를 입력받아 합계를 구하여 출력하는 프로그램 작성\n",
        "\n",
        "n= int(input('몇개의 숫자를 더할까요?:'))           #반복횟수 n 입력\n",
        "sum1 = 0                                            #합계 초기화\n",
        "for i in range(n):                                  #n번 반복\n",
        "    num = int(input('정수를 입력하세요:'))          #입력\n",
        "    sum1 += num\n",
        "print('합계:',sum1)"
      ],
      "execution_count": null,
      "outputs": [
        {
          "output_type": "stream",
          "text": [
            "몇개의 숫자를 더할까요?:5\n",
            "정수를 입력하세요:1\n",
            "정수를 입력하세요:2\n",
            "정수를 입력하세요:3\n",
            "정수를 입력하세요:4\n",
            "정수를 입력하세요:5\n",
            "합계: 15\n"
          ],
          "name": "stdout"
        }
      ]
    },
    {
      "cell_type": "code",
      "metadata": {
        "colab": {
          "base_uri": "https://localhost:8080/"
        },
        "id": "fzuv351QC7HF",
        "outputId": "008c04ab-a2af-41ac-8a4a-a3fc451de137"
      },
      "source": [
        "#예제 > n개의 정수를 입력받아 짝수의 합계 구하기\n",
        "#사용자로부터 n을 입력받고 n개의 정수를 입력받아 짝수의 합계를 구하여 출력하는 프로그램 작성\n",
        "\n",
        "n=int(input('몇개의 숫자를 더할까요?:'))\n",
        "sum1 = 0\n",
        "for i in range(n):\n",
        "    num = int(input('정수를 입력하세요:'))\n",
        "    if num % 2 == 0:\n",
        "        sum1 += num\n",
        "print('합계출력:', sum1)"
      ],
      "execution_count": null,
      "outputs": [
        {
          "output_type": "stream",
          "text": [
            "몇개의 숫자를 더할까요?:5\n",
            "정수를 입력하세요:2\n",
            "정수를 입력하세요:3\n",
            "정수를 입력하세요:4\n",
            "정수를 입력하세요:5\n",
            "정수를 입력하세요:6\n",
            "합계출력: 12\n"
          ],
          "name": "stdout"
        }
      ]
    },
    {
      "cell_type": "code",
      "metadata": {
        "colab": {
          "base_uri": "https://localhost:8080/"
        },
        "id": "o06OFILvFbND",
        "outputId": "174a6d16-aed3-4bbc-a888-60ea116df4c6"
      },
      "source": [
        "#예제 > 0이 입력될 때까지 숫자를 입력 받아 합계\n",
        "#0이 입력될때까지 사용자가 숫자를 입력하고, 입력이 끝나면 입력된 숫자들의 합이 출력되는 프로그램 작성\n",
        "sum1 = 0\n",
        "num = ' '                       #초기값을 줘야 오류발생 X\n",
        "num = int(input('숫자:'))\n",
        "while num != 0:\n",
        "    sum1 += num\n",
        "    num = int(input('숫자:'))\n",
        "\n",
        "print('합계출력:',sum1) "
      ],
      "execution_count": null,
      "outputs": [
        {
          "output_type": "stream",
          "text": [
            "숫자:4\n",
            "숫자:6\n",
            "숫자:3\n",
            "숫자:5\n",
            "숫자:0\n",
            "합계출력: 18\n"
          ],
          "name": "stdout"
        }
      ]
    },
    {
      "cell_type": "code",
      "metadata": {
        "colab": {
          "base_uri": "https://localhost:8080/"
        },
        "id": "1U3rz8j0GrI3",
        "outputId": "ae1d3f8b-36d4-49de-8549-81d6a088e4e3"
      },
      "source": [
        "#예제 > 0이 입력될 때까지 숫자를 입력 받아 합계\n",
        "#0이 입력될때까지 사용자가 숫자를 입력하고, 입력이 끝나면 입력된 숫자들의 합이 출력되는 프로그램 작성\n",
        "\n",
        "sum1 = 0\n",
        "chk = 1\n",
        "\n",
        "while num1!=0 or chk == 1:\n",
        "    num1 = int(input(\"숫자:\"))\n",
        "    sum1 += num1\n",
        "    if chk == 1:\n",
        "        chk = 1 + chk\n",
        "print('합계:',sum1)\n",
        "print(chk)"
      ],
      "execution_count": null,
      "outputs": [
        {
          "output_type": "stream",
          "text": [
            "숫자:23\n",
            "숫자:3\n",
            "숫자:1\n",
            "숫자:23\n",
            "숫자:0\n",
            "합계: 50\n",
            "2\n"
          ],
          "name": "stdout"
        }
      ]
    },
    {
      "cell_type": "code",
      "metadata": {
        "colab": {
          "base_uri": "https://localhost:8080/"
        },
        "id": "pq7mMWbwLv9h",
        "outputId": "78549368-e08c-4195-82ff-d1ea026cb224"
      },
      "source": [
        "#예제1 > 1~n까지 더하는 프로그램을 작성하세요\n",
        "# 숫자 n을 입력받아 1~n까지의 합을 구하여 출력하는 파이썬 프로그램을 작성하세요\n",
        "\n",
        "sum1 = 0\n",
        "n = int(input('1부터 몇까지 더할까요?:'))\n",
        "for i in range(1,n+1):\n",
        "    sum1 += i\n",
        "print(f'1부터 {n}까지 더한 합계는:',sum1)"
      ],
      "execution_count": null,
      "outputs": [
        {
          "output_type": "stream",
          "text": [
            "1부터 몇까지 더할까요?:10\n",
            "1부터 10까지 더한 합계는: 55\n"
          ],
          "name": "stdout"
        }
      ]
    },
    {
      "cell_type": "code",
      "metadata": {
        "colab": {
          "base_uri": "https://localhost:8080/"
        },
        "id": "cWhvTjWbMuOn",
        "outputId": "29b003ce-0e0c-4995-c41a-b0e6a7154531"
      },
      "source": [
        "#예제1 > 1~n까지 더하는 프로그램을 작성하세요\n",
        "# 숫자 n을 입력받아 1~n까지의 합을 구하여 출력하는 파이썬 프로그램을 작성하세요\n",
        "\n",
        "sum1 = 0\n",
        "n = int(input('1부터 몇까지 더할까요?:'))\n",
        "i=1\n",
        "while i <= n:\n",
        "    sum1 += i\n",
        "    i += 1\n",
        "print(f'1부터 {n}까지 더한 합계는:',sum1)"
      ],
      "execution_count": null,
      "outputs": [
        {
          "output_type": "stream",
          "text": [
            "1부터 몇까지 더할까요?:5\n",
            "1부터 5까지 더한 합계는: 15\n"
          ],
          "name": "stdout"
        }
      ]
    },
    {
      "cell_type": "code",
      "metadata": {
        "colab": {
          "base_uri": "https://localhost:8080/"
        },
        "id": "jCzEALD8OtzX",
        "outputId": "c5debd20-b3ad-4ba6-a5f0-7cbf43a0f921"
      },
      "source": [
        "#예제1 > n1~n2까지 더하는 프로그램을 작성하세요\n",
        "# 숫자 n1, n2를 입력받아 n1~n2까지의 합을 구하여 출력하는 파이썬 프로그램을 작성하세요\n",
        "\n",
        "sum1 = 0\n",
        "n1 = int(input('몇부터 더할까요?:'))\n",
        "n2 = int(input('몇부터 더할까요?:'))\n",
        "for i in range(n1, n2+1):\n",
        "    sum1 += i\n",
        "print(f'{n1}부터 {n2}까지 더한 합계는:', sum1)"
      ],
      "execution_count": null,
      "outputs": [
        {
          "output_type": "stream",
          "text": [
            "몇부터 더할까요?:1\n",
            "몇부터 더할까요?:5\n",
            "1부터 5까지 더한 합계는: 15\n"
          ],
          "name": "stdout"
        }
      ]
    },
    {
      "cell_type": "code",
      "metadata": {
        "colab": {
          "base_uri": "https://localhost:8080/"
        },
        "id": "YCtSa33-ayLF",
        "outputId": "10661ffa-c6ab-45b4-97be-68ae1ad8b6d5"
      },
      "source": [
        "#예제 > 임의의 개수 숫자의 평균 구하기\n",
        "#사용자에게 n개의 숫자를 입력받아 그 숫자들의 평균을 계산해서 출력하는 파이썬 프로그램을 작성하세요.\n",
        "#프로그램 실행 초반에 사용자가 입력할 숫자의 개수를 입력 받습니다.\n",
        "\n",
        "n=int(input('입력받을 정수의 개수:'))\n",
        "sum1 = 0\n",
        "for i in range(n):\n",
        "    num = int(input('숫자:'))\n",
        "    sum1 += num\n",
        "if n == 0:\n",
        "    print('0개의 정수를 입력하셨습니다.')\n",
        "else:\n",
        "    print('평균:', sum1/n)\n"
      ],
      "execution_count": null,
      "outputs": [
        {
          "output_type": "stream",
          "text": [
            "입력받을 정수의 개수:3\n",
            "숫자:2\n",
            "숫자:4\n",
            "숫자:6\n",
            "평균: 4.0\n"
          ],
          "name": "stdout"
        }
      ]
    },
    {
      "cell_type": "code",
      "metadata": {
        "colab": {
          "base_uri": "https://localhost:8080/"
        },
        "id": "XrVFH-J1dKEp",
        "outputId": "21f50866-b444-487b-d201-9496dede37c6"
      },
      "source": [
        "#예제 > 팩토리얼 계산하기\n",
        "#정수 n을 입력받아 n!을 계산하는 프로그램 작성\n",
        "\n",
        "n= int(input('몇 팩토리얼?:'))\n",
        "factorial = 1\n",
        "for i in range(n,0,-1):\n",
        "    factorial *= i\n",
        "print(f'{n}! = {factorial}')"
      ],
      "execution_count": null,
      "outputs": [
        {
          "output_type": "stream",
          "text": [
            "몇 팩토리얼?:4\n",
            "4! = 24\n"
          ],
          "name": "stdout"
        }
      ]
    },
    {
      "cell_type": "code",
      "metadata": {
        "colab": {
          "base_uri": "https://localhost:8080/"
        },
        "id": "OucKHoYCguXm",
        "outputId": "c517c4c8-c16e-4849-de3f-4cbb0548c344"
      },
      "source": [
        "#예제 > 구구단\n",
        "#정수 n을 입력받아 해당 구구단을 계산하는 프로그램을 작성하세요.\n",
        "\n",
        "n= int(input('구구단 몇단을 출력할까요?:'))\n",
        "for i in range(1,10):\n",
        "    print(f'{n} * {i} = {n*i}')"
      ],
      "execution_count": null,
      "outputs": [
        {
          "output_type": "stream",
          "text": [
            "구구단 몇단을 출력할까요?:6\n",
            "6 * 1 = 6\n",
            "6 * 2 = 12\n",
            "6 * 3 = 18\n",
            "6 * 4 = 24\n",
            "6 * 5 = 30\n",
            "6 * 6 = 36\n",
            "6 * 7 = 42\n",
            "6 * 8 = 48\n",
            "6 * 9 = 54\n"
          ],
          "name": "stdout"
        }
      ]
    },
    {
      "cell_type": "markdown",
      "metadata": {
        "id": "bky6OT6MoZOX"
      },
      "source": [
        "#중첩반복구조"
      ]
    },
    {
      "cell_type": "code",
      "metadata": {
        "colab": {
          "base_uri": "https://localhost:8080/"
        },
        "id": "H5ocSKmRnp-k",
        "outputId": "9fc56ad0-fe8d-4f0f-9e0d-8a7854dd11ca"
      },
      "source": [
        "for i in range(5):          #내부 루프와 외부루프는 동일한 제어변수를 사용해서는 안된다.(ex.i,j)\n",
        "    for j in range(3):      #내부 for문을 외부 for문의 시퀀스만큼 반복한다.\n",
        "        print(i,j)"
      ],
      "execution_count": null,
      "outputs": [
        {
          "output_type": "stream",
          "text": [
            "0 0\n",
            "0 1\n",
            "0 2\n",
            "1 0\n",
            "1 1\n",
            "1 2\n",
            "2 0\n",
            "2 1\n",
            "2 2\n",
            "3 0\n",
            "3 1\n",
            "3 2\n",
            "4 0\n",
            "4 1\n",
            "4 2\n"
          ],
          "name": "stdout"
        }
      ]
    },
    {
      "cell_type": "code",
      "metadata": {
        "id": "SHL8KN6Bit4G",
        "colab": {
          "base_uri": "https://localhost:8080/"
        },
        "outputId": "a2efde9b-e2f1-464c-9f5e-f0504e1b6a11"
      },
      "source": [
        "#예제 > 전체 구구단 출력하기(가로)\n",
        "\n",
        "for i in range(2,10):\n",
        "    for j in range(1,10):\n",
        "        print(f'{i} * {j} = {i*j}', end='\\t')\n",
        "    print()"
      ],
      "execution_count": null,
      "outputs": [
        {
          "output_type": "stream",
          "text": [
            "2 * 1 = 2\t2 * 2 = 4\t2 * 3 = 6\t2 * 4 = 8\t2 * 5 = 10\t2 * 6 = 12\t2 * 7 = 14\t2 * 8 = 16\t2 * 9 = 18\t\n",
            "3 * 1 = 3\t3 * 2 = 6\t3 * 3 = 9\t3 * 4 = 12\t3 * 5 = 15\t3 * 6 = 18\t3 * 7 = 21\t3 * 8 = 24\t3 * 9 = 27\t\n",
            "4 * 1 = 4\t4 * 2 = 8\t4 * 3 = 12\t4 * 4 = 16\t4 * 5 = 20\t4 * 6 = 24\t4 * 7 = 28\t4 * 8 = 32\t4 * 9 = 36\t\n",
            "5 * 1 = 5\t5 * 2 = 10\t5 * 3 = 15\t5 * 4 = 20\t5 * 5 = 25\t5 * 6 = 30\t5 * 7 = 35\t5 * 8 = 40\t5 * 9 = 45\t\n",
            "6 * 1 = 6\t6 * 2 = 12\t6 * 3 = 18\t6 * 4 = 24\t6 * 5 = 30\t6 * 6 = 36\t6 * 7 = 42\t6 * 8 = 48\t6 * 9 = 54\t\n",
            "7 * 1 = 7\t7 * 2 = 14\t7 * 3 = 21\t7 * 4 = 28\t7 * 5 = 35\t7 * 6 = 42\t7 * 7 = 49\t7 * 8 = 56\t7 * 9 = 63\t\n",
            "8 * 1 = 8\t8 * 2 = 16\t8 * 3 = 24\t8 * 4 = 32\t8 * 5 = 40\t8 * 6 = 48\t8 * 7 = 56\t8 * 8 = 64\t8 * 9 = 72\t\n",
            "9 * 1 = 9\t9 * 2 = 18\t9 * 3 = 27\t9 * 4 = 36\t9 * 5 = 45\t9 * 6 = 54\t9 * 7 = 63\t9 * 8 = 72\t9 * 9 = 81\t\n"
          ],
          "name": "stdout"
        }
      ]
    },
    {
      "cell_type": "code",
      "metadata": {
        "colab": {
          "base_uri": "https://localhost:8080/"
        },
        "id": "UmdZEbDyn87M",
        "outputId": "84c53813-5c33-48cb-be5c-17eab943ec76"
      },
      "source": [
        "#예제 > 전체 구구단 출력하기(세로)\n",
        "\n",
        "for i in range(1,10):\n",
        "    for j in range(2,10):\n",
        "        print(f'{j} * {i} = {i*j}', end='\\t')\n",
        "    print()"
      ],
      "execution_count": null,
      "outputs": [
        {
          "output_type": "stream",
          "text": [
            "2 * 1 = 2\t3 * 1 = 3\t4 * 1 = 4\t5 * 1 = 5\t6 * 1 = 6\t7 * 1 = 7\t8 * 1 = 8\t9 * 1 = 9\t\n",
            "2 * 2 = 4\t3 * 2 = 6\t4 * 2 = 8\t5 * 2 = 10\t6 * 2 = 12\t7 * 2 = 14\t8 * 2 = 16\t9 * 2 = 18\t\n",
            "2 * 3 = 6\t3 * 3 = 9\t4 * 3 = 12\t5 * 3 = 15\t6 * 3 = 18\t7 * 3 = 21\t8 * 3 = 24\t9 * 3 = 27\t\n",
            "2 * 4 = 8\t3 * 4 = 12\t4 * 4 = 16\t5 * 4 = 20\t6 * 4 = 24\t7 * 4 = 28\t8 * 4 = 32\t9 * 4 = 36\t\n",
            "2 * 5 = 10\t3 * 5 = 15\t4 * 5 = 20\t5 * 5 = 25\t6 * 5 = 30\t7 * 5 = 35\t8 * 5 = 40\t9 * 5 = 45\t\n",
            "2 * 6 = 12\t3 * 6 = 18\t4 * 6 = 24\t5 * 6 = 30\t6 * 6 = 36\t7 * 6 = 42\t8 * 6 = 48\t9 * 6 = 54\t\n",
            "2 * 7 = 14\t3 * 7 = 21\t4 * 7 = 28\t5 * 7 = 35\t6 * 7 = 42\t7 * 7 = 49\t8 * 7 = 56\t9 * 7 = 63\t\n",
            "2 * 8 = 16\t3 * 8 = 24\t4 * 8 = 32\t5 * 8 = 40\t6 * 8 = 48\t7 * 8 = 56\t8 * 8 = 64\t9 * 8 = 72\t\n",
            "2 * 9 = 18\t3 * 9 = 27\t4 * 9 = 36\t5 * 9 = 45\t6 * 9 = 54\t7 * 9 = 63\t8 * 9 = 72\t9 * 9 = 81\t\n"
          ],
          "name": "stdout"
        }
      ]
    },
    {
      "cell_type": "markdown",
      "metadata": {
        "id": "VrWQ4Y6dqsCy"
      },
      "source": [
        "#반복문 벗어나기 Break"
      ]
    },
    {
      "cell_type": "code",
      "metadata": {
        "colab": {
          "base_uri": "https://localhost:8080/"
        },
        "id": "i2Q_m_4qoO0o",
        "outputId": "6fb8866c-40e5-48e1-a0a1-b1e016d294bf"
      },
      "source": [
        "#문장에서 해당 문자를 찾으면 반복을 종료한다.\n",
        "t = 'I have a dream'\n",
        "letter = input('찾을 문자:')\n",
        "for i in t:\n",
        "    print(i, end=\" \")\n",
        "    if i == letter:\n",
        "        break"
      ],
      "execution_count": null,
      "outputs": [
        {
          "output_type": "stream",
          "text": [
            "찾을 문자:a\n",
            "I   h a "
          ],
          "name": "stdout"
        }
      ]
    },
    {
      "cell_type": "markdown",
      "metadata": {
        "id": "w7Ug5EPOsAWP"
      },
      "source": [
        "#예제 > up & down 게임\n",
        "1~100 사이의 정답숫자를 랜덤으로 하나 정하고 정답숫자를 맞출 때까지 숫자를 입력하는 게임이다.</br>\n",
        "내가 입력한 숫자가 정답보다 작으면 'DOWN'을, 정답보다 크면 'UP'을 출력하고 숫자를 다시 입력받는다.</br>\n",
        "정답을 맞추면 '정답!'이라고 출력하고 게임을 끝낸다.</br>"
      ]
    },
    {
      "cell_type": "code",
      "metadata": {
        "colab": {
          "base_uri": "https://localhost:8080/"
        },
        "id": "eXoRct5MrHGN",
        "outputId": "6d0e9e47-e3de-403f-9b16-b94fbd351c00"
      },
      "source": [
        "import random\n",
        "n = random.randint(1,100)\n",
        "\n",
        "answer = int(input('예상 숫자:'))\n",
        "while n != answer:\n",
        "    if answer > n:\n",
        "        print('DOWN')\n",
        "        answer = int(input('예상 숫자:'))\n",
        "    elif answer < n:\n",
        "        print('UP')\n",
        "        answer = int(input('예상 숫자:'))\n",
        "print('정답!')\n",
        "print(f'정답은 {n}였습니다.')"
      ],
      "execution_count": null,
      "outputs": [
        {
          "output_type": "stream",
          "text": [
            "예상 숫자:35\n",
            "UP\n",
            "예상 숫자:50\n",
            "UP\n",
            "예상 숫자:45\n",
            "UP\n",
            "예상 숫자:70\n",
            "DOWN\n",
            "예상 숫자:65\n",
            "DOWN\n",
            "예상 숫자:60\n",
            "DOWN\n",
            "예상 숫자:58\n",
            "DOWN\n",
            "예상 숫자:57\n",
            "DOWN\n",
            "예상 숫자:55\n",
            "DOWN\n",
            "예상 숫자:53\n",
            "DOWN\n",
            "예상 숫자:52\n",
            "DOWN\n",
            "예상 숫자:51\n",
            "정답!\n",
            "정답은 51였습니다.\n"
          ],
          "name": "stdout"
        }
      ]
    },
    {
      "cell_type": "code",
      "metadata": {
        "id": "9U7julYPugCO"
      },
      "source": [
        ""
      ],
      "execution_count": null,
      "outputs": []
    }
  ]
}